{
 "cells": [
  {
   "cell_type": "markdown",
   "metadata": {
    "nteract": {
     "transient": {
      "deleting": false
     }
    }
   },
   "source": [
    "# Anomaly Detection and Interpretation from Tabular Data Using Transformer Architecture"
   ]
  },
  {
   "cell_type": "markdown",
   "metadata": {},
   "source": [
    "We present a novel approach to anomaly detection and interpretation from tabular data using a transformer\n",
    "architecture. Our approach comprises two main components: the Anomaly Detector and the Anomaly Interpreter. \n",
    "\n",
    "#### Anomaly Detector:\n",
    "The Anomaly Detector component functions as a supervised classification model, comprising a multi-layer bidirectional Transformer encoder and a subsequent binary classification layer. This model is trained using labeled tabular data to optimize performance, supported by advanced features such as a custom tokenizer and specialized embedding layers (token and positional embeddings) to enhance data understanding and processing.\n",
    "\n",
    "Custom Tokenizer: We have developed a custom tokenizer specifically designed to prepare textual representations of tabular data for processing by transformer models. This tokenizer focuses on tokenizing, vocabulary mapping, and handling out-of-vocabulary items.\n",
    "\n",
    "Embedding Layer: This layer converts each token from its tokenized form (i.e., discrete IDs) into a vector of fixed size (i.e., continuous vector representation). The embedding layer combines three types of embeddings to represent each token fully before it is processed by the subsequent layers of the model. \n",
    "\n",
    "Encoder Layers: The primary objective of encoder layers is to develop a deep, nuanced understanding of language context and semantics. Each layer processes input embeddings (combined token and positional embeddings) to build increasingly complex representations. \n",
    "\n",
    "Classification Layer: Pooling Layer. The output of the last encoder layer (corresponding to each token) is pooled to create a fixed-size output. Dense Layer. This is a fully connected neural network layer that maps the high-dimensional output of previous layer to two classes in our binary classification problem\n",
    "\n",
    "#### Anomaly Interpreter: \n",
    "The objective of this component is to interpret anomalies within textual data transformed from tabular format using the trained transformer model.\n",
    "\n",
    "Association Matrix: An association matrix 𝑀 captures the average attention between all pairs of tokens across\n",
    "the normal training data. \n",
    "\n",
    "Extract Attention Weights: This module is designed to extract attention weights from the trained transformer model for a given input row.\n",
    "\n",
    "Identify Closely Related Tokens: This module aims to find pairs of tokens in an input row that receive high attention weights, indicating a strong association according to the model’s attention mechanism.\n",
    "\n",
    "Identify Violation Rules: After identifying high-attention pairs in a test row deemed anomalous, this module compare these pairs against the association matrix 𝑀 to identify rule violations based on a threshold value."
   ]
  },
  {
   "cell_type": "code",
   "execution_count": 1,
   "metadata": {
    "gather": {
     "logged": 1713377863406
    },
    "jupyter": {
     "outputs_hidden": false,
     "source_hidden": false
    },
    "nteract": {
     "transient": {
      "deleting": false
     }
    },
    "scrolled": true
   },
   "outputs": [
    {
     "name": "stderr",
     "output_type": "stream",
     "text": [
      "/Users/uriel/anaconda3/lib/python3.11/site-packages/transformers/utils/generic.py:260: UserWarning: torch.utils._pytree._register_pytree_node is deprecated. Please use torch.utils._pytree.register_pytree_node instead.\n",
      "  torch.utils._pytree._register_pytree_node(\n"
     ]
    }
   ],
   "source": [
    "from transformers import BertTokenizer, BertForSequenceClassification, Trainer, TrainingArguments\n",
    "from datasets import Dataset\n",
    "from sklearn.model_selection import train_test_split\n",
    "import pandas as pd\n",
    "import numpy as np\n",
    "import torch"
   ]
  },
  {
   "cell_type": "markdown",
   "metadata": {
    "nteract": {
     "transient": {
      "deleting": false
     }
    }
   },
   "source": [
    "## Step 1: Convert Tabular Data to Text"
   ]
  },
  {
   "cell_type": "markdown",
   "metadata": {},
   "source": [
    "To address unique tabular data challenges, we developed a methodology to convert table rows of any data type into a sentence-like structure, enabling effective data processing by the transformer model. \n",
    "\n",
    "By converting each row of a CSV file into a sentence formatted as [column name: value], the tokenizer ensures that numeric values and their associated column names are treated as single tokens, thus preventing the splitting of numerical values during tokenization."
   ]
  },
  {
   "cell_type": "code",
   "execution_count": 2,
   "metadata": {
    "gather": {
     "logged": 1713377863789
    },
    "jupyter": {
     "outputs_hidden": false,
     "source_hidden": false
    },
    "nteract": {
     "transient": {
      "deleting": false
     }
    },
    "scrolled": false
   },
   "outputs": [],
   "source": [
    "#source: https://odds.cs.stonybrook.edu/breast-cancer-wisconsin-original-dataset/\n",
    "file_path = 'breast-cancer-wisconsin.csv'\n",
    "\n",
    "df = pd.read_csv(file_path).drop('ID', axis=1) # Assuming the dataset has an 'ID' column\n",
    "# df = pd.read_csv(file_path) \n",
    "\n",
    "def row_to_sentence(row):\n",
    "    return ','.join([f'[{col}:{val}]' for col, val in row.items()])\n",
    "\n",
    "df['sentence'] = df.drop('Class',axis=1).apply(row_to_sentence, axis=1)\n",
    "sentences = df['sentence'].tolist()\n"
   ]
  },
  {
   "cell_type": "markdown",
   "metadata": {
    "nteract": {
     "transient": {
      "deleting": false
     }
    }
   },
   "source": [
    "## Step 2: Construct Vocabulary"
   ]
  },
  {
   "cell_type": "markdown",
   "metadata": {},
   "source": [
    "A vocabulary comprises the complete set of unique tokens that the model is designed to recognize and process. Each token in the vocabulary is assigned a unique identifier, which facilitates the conversion of textual data into a numerical form that the transformer model can comprehend. In this step, we construct a comprehensive vocabulary that uniquely identifies every token encountered in the dataset. By parsing through each sentence and extracting unique tokens, we ensure that each token is represented by a unique integer ID."
   ]
  },
  {
   "cell_type": "code",
   "execution_count": 3,
   "metadata": {
    "gather": {
     "logged": 1713377864160
    },
    "jupyter": {
     "outputs_hidden": false,
     "source_hidden": false
    },
    "nteract": {
     "transient": {
      "deleting": false
     }
    }
   },
   "outputs": [],
   "source": [
    "def generate_vocab(df):\n",
    "    vocab = {}\n",
    "    column_values = {}\n",
    "    for col in df.columns:\n",
    "        unique_values = set(df[col].unique())\n",
    "        column_values[col] = {str(val): None for val in unique_values}  \n",
    "\n",
    "    token_id = 0\n",
    "    for col, values in column_values.items():\n",
    "        for val in values:\n",
    "            token = f'[{col}:{val}]'\n",
    "            vocab[token] = token_id\n",
    "            token_id += 1\n",
    "\n",
    "    # Special tokens\n",
    "    vocab[\"<OOV>\"] = token_id\n",
    "    vocab[\"<PAD>\"] = token_id + 1\n",
    "\n",
    "    return vocab, column_values"
   ]
  },
  {
   "cell_type": "code",
   "execution_count": 4,
   "metadata": {
    "gather": {
     "logged": 1713377864432
    },
    "jupyter": {
     "outputs_hidden": false,
     "source_hidden": false
    },
    "nteract": {
     "transient": {
      "deleting": false
     }
    }
   },
   "outputs": [],
   "source": [
    "    vocab, column_values=generate_vocab(df)\n",
    "    vocab_size=len(vocab)"
   ]
  },
  {
   "cell_type": "markdown",
   "metadata": {
    "nteract": {
     "transient": {
      "deleting": false
     }
    }
   },
   "source": [
    "## Step 3: Custom Tokenizer\n",
    "This code implements a custom tokenizer specifically designed to prepare textual representations of tabular data for processing with transformer models, with an emphasis on customized embeddings. We have developed a custom tokenizer specifically designed to prepare textual representations of tabular data for processing by transformer models. This tokenizer focuses on tokenizing, vocabulary mapping, and handling out-of-vocabulary items.\n",
    "\n",
    "The inclusion of out-of-vocabulary (OOV) tokens is crucial for handling words that were not present in the training dataset, ensuring the model can process any text seamlessly. For numeric tabular data, a specific method is developed to manage OOV tokens by assessing the \"closeness\" of numeric values associated with column names (e.g., col:val). If an OOV token is numeric, its closeness to known tokens is calculated by locating the nearest numeric value for that column in the training data and using that token’s ID. A numeric closeness function, which operates based on a threshold value for closeness set based on the dataset,aids in mapping an OOV token to the nearest known token. If no value meets the threshold, the function returns a special <OOV> token."
   ]
  },
  {
   "cell_type": "code",
   "execution_count": 5,
   "metadata": {
    "gather": {
     "logged": 1713377864702
    },
    "jupyter": {
     "outputs_hidden": false,
     "source_hidden": false
    },
    "nteract": {
     "transient": {
      "deleting": false
     }
    }
   },
   "outputs": [],
   "source": [
    "def find_closest_known_token(col_val_pair, column_values, threshold=0.5):\n",
    "    print(col_val_pair)\n",
    "    col, val = col_val_pair.strip('[]').split(':')\n",
    "    val = float(val)  \n",
    "    \n",
    "    closest_val = None\n",
    "    closest_diff = float('inf')\n",
    "    for known_val in column_values[col]:\n",
    "        known_val_float = float(known_val)\n",
    "        diff = abs(known_val_float - val)\n",
    "        if diff < closest_diff and diff <= threshold:\n",
    "            closest_val = known_val\n",
    "            closest_diff = diff\n",
    "\n",
    "    if closest_val is not None:\n",
    "        return f'[{col}:{closest_val}]'\n",
    "    else:\n",
    "        return \"<OOV>\"\n",
    "\n",
    "\n",
    "def custom_tokenizer(examples, return_tensors=\"pt\"):\n",
    "    tokenized_outputs = []\n",
    "    for sentence in examples:\n",
    "        tokens = sentence.split(',')\n",
    "        token_ids = []\n",
    "        for token in tokens:\n",
    "            if token in vocab:\n",
    "                token_id = vocab[token]\n",
    "            else:\n",
    "                closest_token = find_closest_known_token(token, column_values)\n",
    "                token_id = vocab.get(closest_token, vocab[\"<OOV>\"])\n",
    "            token_ids.append(token_id)\n",
    "        tokenized_outputs.append(token_ids)\n",
    "\n",
    "    return {\"input_ids\": tokenized_outputs}"
   ]
  },
  {
   "cell_type": "code",
   "execution_count": 6,
   "metadata": {
    "gather": {
     "logged": 1713377864974
    },
    "jupyter": {
     "outputs_hidden": false,
     "source_hidden": false
    },
    "nteract": {
     "transient": {
      "deleting": false
     }
    }
   },
   "outputs": [],
   "source": [
    "id_to_token = {id: token for token, id in vocab.items()}\n",
    "\n",
    "def convert_ids_to_tokens(token_ids):\n",
    "    return [id_to_token.get(id, \"<OOV>\") for id in token_ids]\n"
   ]
  },
  {
   "cell_type": "markdown",
   "metadata": {
    "nteract": {
     "transient": {
      "deleting": false
     }
    }
   },
   "source": [
    "## Step 4: Train-Test data preparation"
   ]
  },
  {
   "cell_type": "code",
   "execution_count": 7,
   "metadata": {
    "gather": {
     "logged": 1713377865592
    },
    "jupyter": {
     "outputs_hidden": false,
     "source_hidden": false
    },
    "nteract": {
     "transient": {
      "deleting": false
     }
    },
    "scrolled": false
   },
   "outputs": [],
   "source": [
    "from sklearn.preprocessing import LabelEncoder\n",
    "\n",
    "majority_value = df[\"Class\"].value_counts().idxmax() \n",
    "df['Class'] = df['Class'].apply(lambda x: 1 if x == majority_value else 0)\n",
    "\n",
    "train_sentences, val_sentences, train_labels, val_labels = train_test_split(df['sentence'], df['Class'], test_size=0.1, random_state=42)\n",
    "\n",
    "train_dataset = Dataset.from_dict({'text': train_sentences.tolist(), 'labels': train_labels.tolist()})\n",
    "val_dataset = Dataset.from_dict({'text': val_sentences.tolist(), 'labels': val_labels.tolist()})"
   ]
  },
  {
   "cell_type": "code",
   "execution_count": 8,
   "metadata": {
    "gather": {
     "logged": 1713377866704
    },
    "jupyter": {
     "outputs_hidden": false,
     "source_hidden": false
    },
    "nteract": {
     "transient": {
      "deleting": false
     }
    }
   },
   "outputs": [
    {
     "data": {
      "application/vnd.jupyter.widget-view+json": {
       "model_id": "",
       "version_major": 2,
       "version_minor": 0
      },
      "text/plain": [
       "Map:   0%|          | 0/614 [00:00<?, ? examples/s]"
      ]
     },
     "metadata": {},
     "output_type": "display_data"
    },
    {
     "data": {
      "application/vnd.jupyter.widget-view+json": {
       "model_id": "",
       "version_major": 2,
       "version_minor": 0
      },
      "text/plain": [
       "Map:   0%|          | 0/69 [00:00<?, ? examples/s]"
      ]
     },
     "metadata": {},
     "output_type": "display_data"
    }
   ],
   "source": [
    "train_dataset = train_dataset.map(lambda examples: custom_tokenizer(examples['text']), batched=True)\n",
    "val_dataset = val_dataset.map(lambda examples: custom_tokenizer(examples['text']), batched=True)\n"
   ]
  },
  {
   "cell_type": "code",
   "execution_count": 9,
   "metadata": {
    "gather": {
     "logged": 1713377867247
    },
    "jupyter": {
     "outputs_hidden": false,
     "source_hidden": false
    },
    "nteract": {
     "transient": {
      "deleting": false
     }
    }
   },
   "outputs": [],
   "source": [
    "from torch.utils.data import DataLoader\n",
    "\n",
    "def collate_fn(batch):\n",
    "    input_ids = torch.tensor([item['input_ids'] for item in batch])\n",
    "    labels = torch.tensor([item['labels'] for item in batch])\n",
    "    return {'input_ids': input_ids, 'labels': labels}\n",
    "\n",
    "train_loader = DataLoader(train_dataset, batch_size=64, collate_fn=collate_fn)\n",
    "val_loader = DataLoader(val_dataset, batch_size=64, collate_fn=collate_fn)"
   ]
  },
  {
   "cell_type": "markdown",
   "metadata": {
    "nteract": {
     "transient": {
      "deleting": false
     }
    }
   },
   "source": [
    "## Step 5: Custom Trainer\n",
    "We develop a custom token embedding layer that initializes the embedding lookup table based on the vocabulary size and the embedding dimension. For the model architecture we used, the embedding dimension is predefined to be 768.\n",
    "A tensor of custom embeddings is created, containing randomly initialized weights. The objective of incorporating custom embeddings is to leverage domain-specific knowledge or specific representations of the tabular data, which might not be captured by the pre-trained embeddings. \n",
    "\n",
    "Here's a breakdown of the key components and objectives:\n",
    "\n",
    "**Custom Embeddings Initialization**: The script begins by defining the size of the custom embeddings based on the vocabulary size (vocab_size) and specifying the embedding dimension (embedding_dim). A tensor of custom embeddings is created, containing randomly initialized weights. This step is crucial for tailoring the model to better understand the specific dataset it will be trained on, especially when dealing with specialized vocabulary.\n",
    "\n",
    "**Model Setup**: The BERT model is loaded with pre-trained weights from 'distilbert-base-uncased', 'bert-base-uncased', 'bert-large-uncased', 'roberta-base', or 'albert-base-v2'. This is then modified to replace the model's original word embeddings with the newly initialized custom embeddings. This replacement allows the model to utilize the custom embeddings during training and inference, potentially enhancing its ability to capture the nuances of the dataset.\n",
    "\n",
    "**Freezing Custom Embeddings** (optional): We freeze the custom embeddings by setting their requires_grad attribute to False. This prevents the embeddings from being updated during the training process, which can be desirable if the custom embeddings already capture the necessary information about the dataset and the goal is to preserve these representations.\n",
    "\n",
    "**Training and Optimization**: The script configures the model for training on a specified device (GPU, if available) and defines an optimizer (AdamW) with a learning rate for updating the model's weights. It then enters a training loop where it processes batches of data, calculates loss, performs backpropagation, and updates the model's weights. This process is iterated over a predefined number of epochs, with the total loss being reported after each epoch.\n",
    "\n",
    "**Evaluation**: After training, the model is evaluated on a validation set to estimate its accuracy. The evaluation loop feeds batches of validation data to the model, computes predictions, and compares them to the true labels to calculate accuracy. This step provides a simplified metric for assessing the model's performance.\n",
    "\n",
    "\n",
    "_Note_: When using PyTorch's DataLoader directly for training and validation, instead of relying on Hugging Face's Trainer, we implement a custom training loop. This custom loop iterates over the train_loader and val_loader, feed the batches to the model, calculate the loss, and update the model parameters accordingly."
   ]
  },
  {
   "cell_type": "code",
   "execution_count": 10,
   "metadata": {
    "gather": {
     "logged": 1713377889272
    },
    "jupyter": {
     "outputs_hidden": false,
     "source_hidden": false
    },
    "nteract": {
     "transient": {
      "deleting": false
     }
    },
    "scrolled": true
   },
   "outputs": [
    {
     "name": "stderr",
     "output_type": "stream",
     "text": [
      "/var/folders/jn/_rsvm6v54878sdz1mhf4qng00000gp/T/ipykernel_13233/2485589983.py:18: UserWarning: To copy construct from a tensor, it is recommended to use sourceTensor.clone().detach() or sourceTensor.clone().detach().requires_grad_(True), rather than torch.tensor(sourceTensor).\n",
      "  custom_embeddings_tensor = torch.tensor(custom_embeddings, dtype=torch.float)\n",
      "You are using a model of type albert to instantiate a model of type bert. This is not supported for all configurations of models and can yield errors.\n",
      "Some weights of BertForSequenceClassification were not initialized from the model checkpoint at albert-base-v2 and are newly initialized: ['encoder.layer.1.attention.self.key.bias', 'encoder.layer.8.attention.self.value.bias', 'encoder.layer.0.intermediate.dense.bias', 'encoder.layer.2.attention.self.query.bias', 'encoder.layer.2.output.LayerNorm.weight', 'encoder.layer.6.attention.self.query.bias', 'encoder.layer.6.output.LayerNorm.weight', 'encoder.layer.8.output.dense.bias', 'encoder.layer.6.output.dense.weight', 'encoder.layer.1.attention.self.query.weight', 'encoder.layer.3.intermediate.dense.weight', 'encoder.layer.3.output.LayerNorm.weight', 'encoder.layer.9.attention.self.query.bias', 'encoder.layer.4.attention.self.key.bias', 'encoder.layer.3.attention.output.LayerNorm.weight', 'embeddings.LayerNorm.bias', 'encoder.layer.8.attention.self.key.weight', 'encoder.layer.3.attention.self.value.bias', 'encoder.layer.4.attention.self.value.bias', 'encoder.layer.1.attention.self.query.bias', 'encoder.layer.7.attention.self.key.bias', 'encoder.layer.11.attention.self.query.bias', 'encoder.layer.1.output.dense.weight', 'encoder.layer.7.output.LayerNorm.weight', 'encoder.layer.7.intermediate.dense.bias', 'encoder.layer.5.output.dense.weight', 'encoder.layer.3.attention.self.key.weight', 'encoder.layer.2.attention.self.query.weight', 'encoder.layer.11.attention.self.query.weight', 'encoder.layer.10.attention.self.query.bias', 'encoder.layer.6.attention.self.key.weight', 'encoder.layer.10.attention.self.key.bias', 'encoder.layer.0.attention.output.LayerNorm.weight', 'encoder.layer.2.attention.output.dense.bias', 'encoder.layer.3.attention.output.dense.bias', 'encoder.layer.4.output.dense.bias', 'encoder.layer.5.intermediate.dense.weight', 'encoder.layer.4.attention.output.LayerNorm.bias', 'encoder.layer.7.attention.self.value.bias', 'encoder.layer.9.intermediate.dense.bias', 'encoder.layer.3.attention.output.LayerNorm.bias', 'encoder.layer.1.attention.output.dense.bias', 'encoder.layer.9.attention.self.key.weight', 'encoder.layer.8.output.LayerNorm.weight', 'encoder.layer.9.attention.output.LayerNorm.weight', 'encoder.layer.10.attention.self.value.weight', 'encoder.layer.0.attention.output.dense.bias', 'encoder.layer.0.attention.self.value.bias', 'encoder.layer.5.attention.self.query.bias', 'encoder.layer.4.attention.output.dense.weight', 'encoder.layer.6.output.dense.bias', 'encoder.layer.11.attention.self.key.weight', 'encoder.layer.3.intermediate.dense.bias', 'encoder.layer.0.attention.self.query.bias', 'encoder.layer.1.output.dense.bias', 'encoder.layer.11.output.LayerNorm.weight', 'encoder.layer.6.intermediate.dense.weight', 'encoder.layer.7.attention.self.value.weight', 'encoder.layer.9.output.LayerNorm.weight', 'encoder.layer.2.attention.self.key.bias', 'encoder.layer.8.intermediate.dense.bias', 'embeddings.position_embeddings.weight', 'encoder.layer.9.attention.output.dense.weight', 'encoder.layer.0.attention.self.key.bias', 'encoder.layer.10.output.LayerNorm.bias', 'encoder.layer.6.attention.output.dense.weight', 'encoder.layer.10.attention.self.query.weight', 'encoder.layer.1.attention.output.LayerNorm.weight', 'encoder.layer.6.output.LayerNorm.bias', 'encoder.layer.11.intermediate.dense.bias', 'encoder.layer.6.attention.output.LayerNorm.bias', 'encoder.layer.7.attention.output.LayerNorm.bias', 'encoder.layer.10.intermediate.dense.bias', 'embeddings.token_type_embeddings.weight', 'encoder.layer.7.attention.output.dense.bias', 'encoder.layer.1.intermediate.dense.weight', 'encoder.layer.9.attention.self.value.weight', 'encoder.layer.6.attention.output.LayerNorm.weight', 'encoder.layer.9.attention.self.query.weight', 'encoder.layer.11.attention.self.value.weight', 'encoder.layer.3.output.dense.bias', 'encoder.layer.4.intermediate.dense.bias', 'encoder.layer.9.attention.output.LayerNorm.bias', 'encoder.layer.2.attention.output.dense.weight', 'encoder.layer.5.attention.output.LayerNorm.weight', 'encoder.layer.0.attention.self.value.weight', 'encoder.layer.1.attention.self.key.weight', 'encoder.layer.2.attention.self.value.weight', 'encoder.layer.4.attention.output.LayerNorm.weight', 'encoder.layer.10.attention.output.LayerNorm.weight', 'encoder.layer.10.output.LayerNorm.weight', 'encoder.layer.4.output.LayerNorm.weight', 'encoder.layer.11.output.LayerNorm.bias', 'encoder.layer.10.attention.self.key.weight', 'encoder.layer.5.output.LayerNorm.weight', 'classifier.weight', 'encoder.layer.8.attention.output.LayerNorm.weight', 'encoder.layer.10.intermediate.dense.weight', 'encoder.layer.4.attention.self.value.weight', 'encoder.layer.2.attention.self.value.bias', 'encoder.layer.0.attention.output.dense.weight', 'encoder.layer.7.output.LayerNorm.bias', 'encoder.layer.9.attention.self.key.bias', 'encoder.layer.9.output.LayerNorm.bias', 'encoder.layer.2.output.dense.bias', 'encoder.layer.4.attention.self.query.bias', 'encoder.layer.2.intermediate.dense.bias', 'encoder.layer.1.output.LayerNorm.bias', 'encoder.layer.7.attention.self.key.weight', 'encoder.layer.7.attention.output.dense.weight', 'encoder.layer.7.intermediate.dense.weight', 'encoder.layer.5.attention.self.key.bias', 'encoder.layer.11.attention.output.dense.bias', 'encoder.layer.11.output.dense.bias', 'encoder.layer.7.attention.self.query.weight', 'encoder.layer.5.attention.self.key.weight', 'encoder.layer.0.intermediate.dense.weight', 'encoder.layer.9.intermediate.dense.weight', 'encoder.layer.7.output.dense.weight', 'encoder.layer.4.intermediate.dense.weight', 'encoder.layer.2.output.LayerNorm.bias', 'encoder.layer.11.attention.output.LayerNorm.weight', 'encoder.layer.10.attention.output.LayerNorm.bias', 'encoder.layer.4.output.dense.weight', 'encoder.layer.4.attention.self.query.weight', 'encoder.layer.6.attention.self.value.bias', 'encoder.layer.0.output.LayerNorm.bias', 'encoder.layer.6.intermediate.dense.bias', 'encoder.layer.2.attention.output.LayerNorm.bias', 'encoder.layer.7.attention.output.LayerNorm.weight', 'encoder.layer.4.attention.self.key.weight', 'encoder.layer.8.output.dense.weight', 'encoder.layer.11.intermediate.dense.weight', 'encoder.layer.11.attention.self.value.bias', 'encoder.layer.9.attention.self.value.bias', 'encoder.layer.1.attention.output.LayerNorm.bias', 'encoder.layer.5.attention.self.value.weight', 'encoder.layer.7.attention.self.query.bias', 'encoder.layer.9.output.dense.bias', 'encoder.layer.3.attention.self.key.bias', 'encoder.layer.10.attention.self.value.bias', 'encoder.layer.5.intermediate.dense.bias', 'encoder.layer.0.attention.self.query.weight', 'encoder.layer.8.attention.self.value.weight', 'encoder.layer.8.attention.output.dense.weight', 'encoder.layer.1.intermediate.dense.bias', 'encoder.layer.8.intermediate.dense.weight', 'encoder.layer.11.attention.output.LayerNorm.bias', 'encoder.layer.6.attention.self.query.weight', 'encoder.layer.1.attention.self.value.bias', 'encoder.layer.11.output.dense.weight', 'encoder.layer.2.attention.self.key.weight', 'encoder.layer.5.attention.self.value.bias', 'encoder.layer.4.attention.output.dense.bias', 'encoder.layer.10.output.dense.bias', 'encoder.layer.0.attention.self.key.weight', 'encoder.layer.2.output.dense.weight', 'encoder.layer.1.attention.self.value.weight', 'encoder.layer.0.attention.output.LayerNorm.bias', 'encoder.layer.3.attention.output.dense.weight', 'encoder.layer.3.output.LayerNorm.bias', 'encoder.layer.10.attention.output.dense.weight', 'encoder.layer.0.output.LayerNorm.weight', 'encoder.layer.9.attention.output.dense.bias', 'encoder.layer.3.output.dense.weight', 'encoder.layer.3.attention.self.value.weight', 'encoder.layer.3.attention.self.query.weight', 'encoder.layer.5.attention.output.dense.weight', 'encoder.layer.0.output.dense.bias', 'encoder.layer.6.attention.self.key.bias', 'encoder.layer.5.attention.self.query.weight', 'encoder.layer.0.output.dense.weight', 'encoder.layer.8.output.LayerNorm.bias', 'pooler.dense.bias', 'pooler.dense.weight', 'encoder.layer.6.attention.self.value.weight', 'encoder.layer.8.attention.output.dense.bias', 'embeddings.LayerNorm.weight', 'encoder.layer.8.attention.self.key.bias', 'encoder.layer.2.intermediate.dense.weight', 'encoder.layer.5.attention.output.dense.bias', 'encoder.layer.5.attention.output.LayerNorm.bias', 'encoder.layer.2.attention.output.LayerNorm.weight', 'encoder.layer.11.attention.self.key.bias', 'encoder.layer.4.output.LayerNorm.bias', 'encoder.layer.8.attention.output.LayerNorm.bias', 'encoder.layer.10.output.dense.weight', 'encoder.layer.5.output.LayerNorm.bias', 'encoder.layer.7.output.dense.bias', 'encoder.layer.8.attention.self.query.bias', 'encoder.layer.1.output.LayerNorm.weight', 'encoder.layer.6.attention.output.dense.bias', 'embeddings.word_embeddings.weight', 'encoder.layer.8.attention.self.query.weight', 'classifier.bias', 'encoder.layer.9.output.dense.weight', 'encoder.layer.5.output.dense.bias', 'encoder.layer.1.attention.output.dense.weight', 'encoder.layer.10.attention.output.dense.bias', 'encoder.layer.11.attention.output.dense.weight', 'encoder.layer.3.attention.self.query.bias']\n",
      "You should probably TRAIN this model on a down-stream task to be able to use it for predictions and inference.\n",
      "  0%|                                                    | 0/10 [00:00<?, ?it/s]We strongly recommend passing in an `attention_mask` since your input_ids may be padded. See https://huggingface.co/docs/transformers/troubleshooting#incorrect-output-when-padding-tokens-arent-masked.\n",
      "100%|███████████████████████████████████████████| 10/10 [00:11<00:00,  1.13s/it]\n"
     ]
    },
    {
     "name": "stdout",
     "output_type": "stream",
     "text": [
      "Epoch 1 finished. Total Loss: 2.4153285399079323\n",
      "Epoch 1 took: 11.25 seconds\n",
      "Total training time: 11.26 seconds\n"
     ]
    },
    {
     "name": "stderr",
     "output_type": "stream",
     "text": [
      "100%|███████████████████████████████████████████| 10/10 [00:12<00:00,  1.22s/it]\n"
     ]
    },
    {
     "name": "stdout",
     "output_type": "stream",
     "text": [
      "Epoch 2 finished. Total Loss: 1.61954041197896\n",
      "Epoch 2 took: 12.19 seconds\n",
      "Total training time: 23.45 seconds\n"
     ]
    },
    {
     "name": "stderr",
     "output_type": "stream",
     "text": [
      "100%|███████████████████████████████████████████| 10/10 [00:14<00:00,  1.48s/it]\n"
     ]
    },
    {
     "name": "stdout",
     "output_type": "stream",
     "text": [
      "Epoch 3 finished. Total Loss: 1.2605879046022892\n",
      "Epoch 3 took: 14.81 seconds\n",
      "Total training time: 38.26 seconds\n"
     ]
    },
    {
     "name": "stderr",
     "output_type": "stream",
     "text": [
      "100%|█████████████████████████████████████████████| 2/2 [00:00<00:00,  2.73it/s]"
     ]
    },
    {
     "name": "stdout",
     "output_type": "stream",
     "text": [
      "Validation Accuracy: 0.984375\n"
     ]
    },
    {
     "name": "stderr",
     "output_type": "stream",
     "text": [
      "\n"
     ]
    }
   ],
   "source": [
    "from torch.utils.data import DataLoader\n",
    "import torch\n",
    "from torch.optim import AdamW\n",
    "from tqdm import tqdm\n",
    "from transformers import AutoModelForSequenceClassification, AutoTokenizer\n",
    "from transformers import BertForSequenceClassification\n",
    "\n",
    "import time\n",
    "from keras.callbacks import Callback\n",
    "\n",
    "#################\n",
    "vocab_size = len(vocab)\n",
    "embedding_dim = 768  # Adjust as needed\n",
    "# embedding_dim = 1024\n",
    "custom_embeddings = torch.FloatTensor(np.random.rand(vocab_size, embedding_dim))\n",
    "#################\n",
    "\n",
    "custom_embeddings_tensor = torch.tensor(custom_embeddings, dtype=torch.float)\n",
    "\n",
    "# Load the model\n",
    "# model = BertForSequenceClassification.from_pretrained('distilbert-base-uncased', num_labels=2, output_attentions=True)\n",
    "# model = BertForSequenceClassification.from_pretrained('bert-base-uncased', num_labels=2, output_attentions=True)\n",
    "# model = BertForSequenceClassification.from_pretrained('bert-large-uncased', num_labels=2, output_attentions=True)\n",
    "# model = BertForSequenceClassification.from_pretrained('roberta-base', num_labels=2, output_attentions=True)\n",
    "model = BertForSequenceClassification.from_pretrained('albert-base-v2', num_labels=2, output_attentions=True)\n",
    "\n",
    "model.bert.embeddings.word_embeddings = torch.nn.Embedding(num_embeddings=custom_embeddings_tensor.size(0), embedding_dim=custom_embeddings_tensor.size(1))\n",
    "model.bert.embeddings.word_embeddings.weight = torch.nn.Parameter(custom_embeddings_tensor)\n",
    "\n",
    "# Optionally, freeze the custom embeddings to prevent them from being updated during training\n",
    "model.bert.embeddings.word_embeddings.weight.requires_grad = False\n",
    "\n",
    "device = torch.device(\"cuda\" if torch.cuda.is_available() else \"cpu\")\n",
    "model.to(device)\n",
    "\n",
    "optimizer = AdamW(model.parameters(), lr=5e-5)\n",
    "\n",
    "start_time = time.time()\n",
    "model.train()\n",
    "for epoch in range(3):  # number of epochs\n",
    "    epoch_start_time = time.time() \n",
    "    total_loss = 0\n",
    "    for batch in tqdm(train_loader):\n",
    "        batch = {k: v.to(device) for k, v in batch.items()}\n",
    "        \n",
    "        outputs = model(**batch)\n",
    "        loss = outputs.loss\n",
    "        total_loss += loss.item()\n",
    "\n",
    "        optimizer.zero_grad()\n",
    "        loss.backward()\n",
    "        optimizer.step()\n",
    "        \n",
    "        epoch_end_time = time.time() \n",
    "    epoch_time = epoch_end_time - epoch_start_time\n",
    "    \n",
    "    print(f\"Epoch {epoch+1} finished. Total Loss: {total_loss}\")\n",
    "    print(f\"Epoch {epoch + 1} took: {epoch_time:.2f} seconds\")\n",
    "    total_time = time.time() - start_time\n",
    "    print(f\"Total training time: {total_time:.2f} seconds\") \n",
    "\n",
    "model.eval()\n",
    "total_eval_accuracy = 0\n",
    "for batch in tqdm(val_loader):\n",
    "    batch = {k: v.to(device) for k, v in batch.items()}\n",
    "\n",
    "    with torch.no_grad():\n",
    "        outputs = model(**batch)\n",
    "    \n",
    "    logits = outputs.logits\n",
    "    predictions = torch.argmax(logits, dim=-1)\n",
    "    accuracy = (predictions == batch['labels']).cpu().numpy().mean()  \n",
    "    total_eval_accuracy += accuracy\n",
    "\n",
    "print(f\"Validation Accuracy: {total_eval_accuracy / len(val_loader)}\")\n"
   ]
  },
  {
   "cell_type": "markdown",
   "metadata": {
    "nteract": {
     "transient": {
      "deleting": false
     }
    }
   },
   "source": [
    "## Step 6: Evaluate the Model"
   ]
  },
  {
   "cell_type": "code",
   "execution_count": 11,
   "metadata": {
    "gather": {
     "logged": 1713377889648
    },
    "jupyter": {
     "outputs_hidden": false,
     "source_hidden": false
    },
    "nteract": {
     "transient": {
      "deleting": false
     }
    },
    "scrolled": true
   },
   "outputs": [
    {
     "name": "stderr",
     "output_type": "stream",
     "text": [
      "100%|█████████████████████████████████████████████| 2/2 [00:00<00:00,  2.40it/s]"
     ]
    },
    {
     "name": "stdout",
     "output_type": "stream",
     "text": [
      "Test Accuracy: 0.9710144927536232\n",
      "Test F1 Score: 0.9710144927536232\n"
     ]
    },
    {
     "name": "stderr",
     "output_type": "stream",
     "text": [
      "\n"
     ]
    }
   ],
   "source": [
    "from sklearn.metrics import accuracy_score, f1_score\n",
    "import numpy as np\n",
    "\n",
    "model.eval()\n",
    "\n",
    "model.to(device)\n",
    "\n",
    "true_labels = []\n",
    "predictions = []\n",
    "\n",
    "for batch in tqdm(val_loader):\n",
    "    batch = {k: v.to(device) for k, v in batch.items()}\n",
    "\n",
    "    with torch.no_grad():\n",
    "        outputs = model(**batch)\n",
    "\n",
    "    logits = outputs.logits\n",
    "\n",
    "    batch_predictions = torch.argmax(logits, dim=-1).cpu().numpy()\n",
    "    batch_labels = batch['labels'].cpu().numpy()\n",
    "\n",
    "    predictions.extend(batch_predictions)\n",
    "    true_labels.extend(batch_labels)\n",
    "\n",
    "bert_accuracy = accuracy_score(true_labels, predictions)\n",
    "# bert_f1 = f1_score(true_labels, predictions, average='binary')  # Use 'micro' or 'macro' for multi-class classification\n",
    "bert_f1 = f1_score(true_labels, predictions, average='micro')\n",
    "\n",
    "print(f\"Test Accuracy: {bert_accuracy}\")\n",
    "print(f\"Test F1 Score: {bert_f1}\")\n"
   ]
  },
  {
   "cell_type": "markdown",
   "metadata": {
    "nteract": {
     "transient": {
      "deleting": false
     }
    }
   },
   "source": [
    "## Step 7: Interpret the Model's Decision Using Attention\n",
    "### Interpretation Approach 1. Direct Usage of Attention Matrix\n",
    "The Anomaly Interpreter utilizes attention weights from the trained transformer model to analyze associations between token pairs in anomalous rows compared to a benchmark association matrix reflecting average token associations in normal data. Significant deviations in associations are flagged as rule violations, offering deep insights into the nature of the anomalies.\n",
    "\n",
    "\n",
    "### Extract the Attention Weights\n",
    "This module is designed to extract attention weights from the trained transformer model for a given input row. The module starts by tokenizing the input row using our custom tokenizer, wrapping the row in a list to match the tokenizer’s expected input format. \n",
    "\n",
    "Next, an attention mask is created for informing the model which parts of the input are actual data versus padding, ensuring that attention calculations are only performed on meaningful data. The module returns the predicted class, the probability of that class, and the attention weights. \n",
    "\n",
    "The attention weights is used by the next module to interpret which parts of the input row the model focused on when making its prediction. This module assumes that the last layer’s attention is the most representative of the model’s final decision-making process. In transformer-based models, the intuition is that earlier layers capture more about syntax and lower-level features, while later layers capture more complex semantics and task-specific features.\n",
    "\n",
    "**Approach**\n",
    "1. Extract the attention weights for the last transformer layer and head. \n",
    "\n",
    "2. Aggregate the attention weights across all heads.\n",
    "\n",
    "3. Visualize the attention distribution to understand which tokens are receiving the most attention.\n",
    "\n",
    "4. Correlate the tokens with high attention with the input features (e.g., specific words in the sentence) to hypothesize which features are influential.\n",
    "\n",
    "### Drawbacks\n",
    "(Hao, Y., Dong, L., Wei, F., & Xu, K. (2021, May). Self-attention attribution: Interpreting information interactions inside transformer. In Proceedings of the AAAI Conference on Artificial Intelligence (Vol. 35, No. 14, pp. 12963-12971))\n",
    "\n",
    "- We observe that the attention score matrix is quite dense\n",
    "\n",
    "- Difficult to understand the interaction between different words.\n",
    "\n",
    "- Even if the attention score is large ,it doesn't mean pair of words is important for model decision."
   ]
  },
  {
   "cell_type": "code",
   "execution_count": 12,
   "metadata": {
    "gather": {
     "logged": 1713377889823
    },
    "jupyter": {
     "outputs_hidden": false,
     "source_hidden": false
    },
    "nteract": {
     "transient": {
      "deleting": false
     }
    },
    "scrolled": true
   },
   "outputs": [],
   "source": [
    "import torch\n",
    "import torch.nn.functional as F\n",
    "\n",
    "model.to(device)\n",
    "\n",
    "def get_prediction_attention(sentence):\n",
    "    inputs = custom_tokenizer([sentence])\n",
    "    \n",
    "    input_ids = torch.tensor(inputs['input_ids'], dtype=torch.long).to(device)\n",
    "    \n",
    "    attention_mask = torch.tensor([[1]*len(input_ids[0])], dtype=torch.long).to(device)\n",
    "    \n",
    "    model.eval()  \n",
    "    with torch.no_grad():\n",
    "        outputs = model(input_ids=input_ids, attention_mask=attention_mask, output_attentions=True)\n",
    "\n",
    "    logits = outputs.logits\n",
    "    attentions = outputs.attentions\n",
    "\n",
    "    probs = F.softmax(logits, dim=-1)\n",
    "    predicted_class = torch.argmax(probs, dim=-1).cpu().numpy()[0]  \n",
    "    predicted_prob = probs[0, predicted_class].item()  \n",
    "\n",
    "    return predicted_class, predicted_prob, attentions"
   ]
  },
  {
   "cell_type": "code",
   "execution_count": 13,
   "metadata": {
    "gather": {
     "logged": 1713377891103
    },
    "jupyter": {
     "outputs_hidden": false,
     "source_hidden": false
    },
    "nteract": {
     "transient": {
      "deleting": false
     }
    }
   },
   "outputs": [],
   "source": [
    "import matplotlib.pyplot as plt\n",
    "import seaborn as sns\n",
    "\n",
    "def visualize_attention(input_text, attentions):\n",
    "    tokenized_input = custom_tokenizer([input_text])['input_ids'][0] \n",
    "    \n",
    "    tokens = [id_to_token[id] for id in tokenized_input]\n",
    "    \n",
    "    attention = attentions[-1].squeeze(0).mean(0)  \n",
    "    \n",
    "    attention_np = attention.cpu().detach().numpy()\n",
    "\n",
    "    plt.figure(figsize=(10, 8))\n",
    "    sns.heatmap(attention_np, xticklabels=tokens, yticklabels=tokens, cmap='viridis')\n",
    "    plt.show()"
   ]
  },
  {
   "cell_type": "markdown",
   "metadata": {
    "nteract": {
     "transient": {
      "deleting": false
     }
    }
   },
   "source": [
    "### Interpretation Approach 2. Word Association Extraction\n",
    "This module assesses whether these closely linked tokens exhibit a similar association level in the normal data from the training dataset. To facilitate this analysis, we construct an association matrix M, which encapsulates\n",
    "the average token associations across all normal training data. This matrix serves as a benchmark for comparing associations in the test sentence. If a closely associated token pair from the test sentence also shows a high association in M, no action is taken. However, if their association in the test sentence deviates from the patterns\n",
    "observed in M—indicating an anomaly—this discrepancy is flagged as a violation of an association rule. Such violations, highlighting divergent token relationships from the established norms, are reported as outputs of the component."
   ]
  },
  {
   "cell_type": "code",
   "execution_count": 14,
   "metadata": {
    "gather": {
     "logged": 1713377891295
    },
    "jupyter": {
     "outputs_hidden": false,
     "source_hidden": false
    },
    "nteract": {
     "transient": {
      "deleting": false
     }
    }
   },
   "outputs": [],
   "source": [
    "from collections import defaultdict\n",
    "\n",
    "def create_full_association_matrix(sentences, model, tokenizer):\n",
    "    start_time = time.time()\n",
    "    \n",
    "    token_counts = defaultdict(int)\n",
    "    association_matrix = np.zeros((vocab_size, vocab_size), dtype=np.float32)\n",
    "    \n",
    "    model.eval()  \n",
    "    model.to(device)  \n",
    "    \n",
    "    for sentence in sentences:\n",
    "        inputs = tokenizer([sentence])  \n",
    "        input_ids = inputs[\"input_ids\"][0]  \n",
    "        \n",
    "        input_ids_tensor = torch.tensor([input_ids], dtype=torch.long).to(device)\n",
    "        \n",
    "        with torch.no_grad():\n",
    "            outputs = model(input_ids=input_ids_tensor, output_attentions=True)\n",
    "        attention = outputs.attentions[-1].squeeze(0).mean(dim=0)  \n",
    "        \n",
    "        for i, id1 in enumerate(input_ids):\n",
    "            for j, id2 in enumerate(input_ids):\n",
    "                if id1 < vocab_size and id2 < vocab_size:  \n",
    "                    token_counts[id1] += 1\n",
    "                    token_counts[id2] += 1\n",
    "                    association_matrix[id1, id2] += attention[i, j].item()\n",
    "    \n",
    "    for i in range(vocab_size):\n",
    "        for j in range(vocab_size):\n",
    "            total_occurrences = token_counts[i] + token_counts[j]\n",
    "            if total_occurrences > 0:  \n",
    "                association_matrix[i, j] /= total_occurrences\n",
    "    \n",
    "    total_time = time.time() - start_time\n",
    "    print(f\"Total time: {total_time:.2f} seconds\")\n",
    "    \n",
    "    return association_matrix"
   ]
  },
  {
   "cell_type": "code",
   "execution_count": 15,
   "metadata": {
    "gather": {
     "logged": 1713377900666
    },
    "jupyter": {
     "outputs_hidden": false,
     "source_hidden": false
    },
    "nteract": {
     "transient": {
      "deleting": false
     }
    },
    "scrolled": true
   },
   "outputs": [
    {
     "name": "stdout",
     "output_type": "stream",
     "text": [
      "Total time: 12.65 seconds\n",
      "Total time: 12.66 seconds\n"
     ]
    }
   ],
   "source": [
    "import time\n",
    "\n",
    "start_time = time.time()\n",
    "\n",
    "normal_df=df[df['Class']==0]\n",
    "normal_sentences = normal_df['sentence'].tolist()\n",
    "\n",
    "M = create_full_association_matrix(normal_sentences, model, custom_tokenizer)\n",
    "\n",
    "total_time = time.time() - start_time\n",
    "print(f\"Total time: {total_time:.2f} seconds\")"
   ]
  },
  {
   "cell_type": "code",
   "execution_count": 16,
   "metadata": {
    "gather": {
     "logged": 1713377901248
    },
    "jupyter": {
     "outputs_hidden": false,
     "source_hidden": false
    },
    "nteract": {
     "transient": {
      "deleting": false
     }
    }
   },
   "outputs": [
    {
     "data": {
      "image/png": "[encoded data removed]",
      "text/plain": [
       "<Figure size 640x480 with 1 Axes>"
      ]
     },
     "metadata": {},
     "output_type": "display_data"
    }
   ],
   "source": [
    "import matplotlib.pyplot as plt\n",
    "\n",
    "plt.hist(M.flatten(), bins=50, log=True)\n",
    "plt.title('Distribution of Association Scores')\n",
    "plt.xlabel('Association Score')\n",
    "plt.ylabel('Frequency (log scale)')\n",
    "plt.show()"
   ]
  },
  {
   "cell_type": "code",
   "execution_count": 17,
   "metadata": {
    "gather": {
     "logged": 1713377901472
    },
    "jupyter": {
     "outputs_hidden": false,
     "source_hidden": false
    },
    "nteract": {
     "transient": {
      "deleting": false
     }
    }
   },
   "outputs": [
    {
     "name": "stdout",
     "output_type": "stream",
     "text": [
      "6.5611657e-06\n"
     ]
    }
   ],
   "source": [
    "threshold = np.mean(M.flatten())\n",
    "violation_threshold=threshold\n",
    "print(violation_threshold)"
   ]
  },
  {
   "cell_type": "markdown",
   "metadata": {
    "nteract": {
     "transient": {
      "deleting": false
     }
    }
   },
   "source": [
    "**Identify Highly Associated Words**\n",
    "\n",
    "The identify_high_attention_pairs function aims to find pairs of tokens in an input row that receive high attention weights, indicating a strong association according to the model’s attention mechanism. This module analyzes the attention matrix from the previous module to identify these pairs to return token pairs with attention weights above a specified threshold."
   ]
  },
  {
   "cell_type": "code",
   "execution_count": 18,
   "metadata": {
    "gather": {
     "logged": 1713377901645
    },
    "jupyter": {
     "outputs_hidden": false,
     "source_hidden": false
    },
    "nteract": {
     "transient": {
      "deleting": false
     }
    }
   },
   "outputs": [],
   "source": [
    "def identify_high_attention_pairs(attention_matrix, tokens):\n",
    "    high_attention_pairs = []\n",
    "    seq_len = attention_matrix.shape[0]\n",
    "    \n",
    "    for i in range(seq_len):\n",
    "        for j in range(i + 1, seq_len):  \n",
    "            if attention_matrix[i, j] > threshold:  \n",
    "                token1, token2 = tokens[i], tokens[j]\n",
    "                if token1 not in ['[PAD]', '[SEP]', '[CLS]'] and token2 not in ['[PAD]', '[SEP]', '[CLS]']:  # Filter out special tokens if present\n",
    "                    high_attention_pairs.append((token1, token2))\n",
    "    \n",
    "    return high_attention_pairs"
   ]
  },
  {
   "cell_type": "code",
   "execution_count": 19,
   "metadata": {
    "gather": {
     "logged": 1713377901835
    },
    "jupyter": {
     "outputs_hidden": false,
     "source_hidden": false
    },
    "nteract": {
     "transient": {
      "deleting": false
     }
    }
   },
   "outputs": [],
   "source": [
    "import torch\n",
    "import torch.nn.functional as F\n",
    "\n",
    "def process_test_sentence(sentence):\n",
    "    predicted_class, predicted_prob, attentions = get_prediction_attention(sentence)\n",
    "    inputs = custom_tokenizer([sentence])\n",
    "    token_ids = inputs['input_ids'][0]\n",
    "    tokens = [id_to_token.get(id, \"<UNK>\") for id in token_ids]  \n",
    "    \n",
    "    if predicted_class == 0 and not (\"<OOV>\" in tokens):\n",
    "        return \"normal\", []\n",
    "\n",
    "    attention_matrix = attentions[-1].squeeze(0).mean(dim=0).cpu().numpy()\n",
    "    \n",
    "    high_attention_pairs = identify_high_attention_pairs(attention_matrix, tokens)\n",
    "    \n",
    "    return \"anomalous\", high_attention_pairs"
   ]
  },
  {
   "cell_type": "markdown",
   "metadata": {
    "nteract": {
     "transient": {
      "deleting": false
     }
    }
   },
   "source": [
    "**Check for association rule violations**\n",
    "\n",
    "After identifying high-attention pairs in a test row deemed anomalous, this module compare these pairs against the association matrix 𝑀 to identify rule violations based on a threshold value."
   ]
  },
  {
   "cell_type": "code",
   "execution_count": 20,
   "metadata": {
    "gather": {
     "logged": 1713377902165
    },
    "jupyter": {
     "outputs_hidden": false,
     "source_hidden": false
    },
    "nteract": {
     "transient": {
      "deleting": false
     }
    }
   },
   "outputs": [],
   "source": [
    "def check_association_violations(high_attention_pairs, association_matrix, violation_threshold=violation_threshold):\n",
    "    violations = []\n",
    "    matrix_size = vocab_size\n",
    "\n",
    "    for word1, word2 in high_attention_pairs:\n",
    "        id1 = vocab.get(word1, vocab[\"<OOV>\"])  \n",
    "        id2 = vocab.get(word2, vocab[\"<OOV>\"])\n",
    "\n",
    "        if id1 < matrix_size and id2 < matrix_size:\n",
    "            if association_matrix[id1, id2] < violation_threshold or word1 == \"<OOV>\" or word2 == \"<OOV>\":\n",
    "                violations.append((word1, word2))\n",
    "        else:\n",
    "            print(f\"Skipping pair ({word1}, {word2}) with IDs ({id1}, {id2}) outside association matrix bounds.\")\n",
    "\n",
    "    return violations"
   ]
  },
  {
   "cell_type": "markdown",
   "metadata": {
    "nteract": {
     "transient": {
      "deleting": false
     }
    }
   },
   "source": [
    "## Mutation Analysis\n",
    "To perform mutation analysis on the dataset and calculate the mutation score, we follow these steps. The code will select 5% of the normal data, randomly mutate two column values per row, and then check if these mutations lead to the data being classified as anomalous and whether the mutated pairs are in the set of violations. The mutation score is calculated as the ratio of mutants killed (those that result in anomalies with violations) to the total number of mutants.\n",
    "\n"
   ]
  },
  {
   "cell_type": "code",
   "execution_count": 21,
   "metadata": {
    "gather": {
     "logged": 1713377902805
    },
    "jupyter": {
     "outputs_hidden": false,
     "source_hidden": false
    },
    "nteract": {
     "transient": {
      "deleting": false
     }
    },
    "scrolled": false
   },
   "outputs": [
    {
     "name": "stdout",
     "output_type": "stream",
     "text": [
      "Status: normal\n",
      "Sentence is normal.\n",
      "Status: normal\n",
      "Sentence is normal.\n",
      "[Madh:2]\n",
      "[Madh:2]\n",
      "Status: anomalous\n",
      "Highly associated words based on attention: [('[CT:1]', '[UCSi:7]'), ('[CT:1]', '[UCSh:7]'), ('[CT:1]', '<OOV>'), ('[CT:1]', '[SECS:8]'), ('[CT:1]', '[BN:5]'), ('[CT:1]', '[BC:7]'), ('[CT:1]', '[NN:1]'), ('[CT:1]', '[Mi:3]'), ('[UCSi:7]', '[UCSh:7]'), ('[UCSi:7]', '<OOV>'), ('[UCSi:7]', '[SECS:8]'), ('[UCSi:7]', '[BN:5]'), ('[UCSi:7]', '[BC:7]'), ('[UCSi:7]', '[NN:1]'), ('[UCSi:7]', '[Mi:3]'), ('[UCSh:7]', '<OOV>'), ('[UCSh:7]', '[SECS:8]'), ('[UCSh:7]', '[BN:5]'), ('[UCSh:7]', '[BC:7]'), ('[UCSh:7]', '[NN:1]'), ('[UCSh:7]', '[Mi:3]'), ('<OOV>', '[SECS:8]'), ('<OOV>', '[BN:5]'), ('<OOV>', '[BC:7]'), ('<OOV>', '[NN:1]'), ('<OOV>', '[Mi:3]'), ('[SECS:8]', '[BN:5]'), ('[SECS:8]', '[BC:7]'), ('[SECS:8]', '[NN:1]'), ('[SECS:8]', '[Mi:3]'), ('[BN:5]', '[BC:7]'), ('[BN:5]', '[NN:1]'), ('[BN:5]', '[Mi:3]'), ('[BC:7]', '[NN:1]'), ('[BC:7]', '[Mi:3]'), ('[NN:1]', '[Mi:3]')]\n",
      "Violations of association rules found: [('[CT:1]', '<OOV>'), ('[UCSi:7]', '<OOV>'), ('[UCSh:7]', '<OOV>'), ('<OOV>', '[SECS:8]'), ('<OOV>', '[BN:5]'), ('<OOV>', '[BC:7]'), ('<OOV>', '[NN:1]'), ('<OOV>', '[Mi:3]')]\n",
      "[CT:2]\n",
      "[CT:2]\n",
      "Status: anomalous\n",
      "Highly associated words based on attention: [('<OOV>', '[UCSi:1]'), ('<OOV>', '[UCSh:1]'), ('<OOV>', '[Madh:10]'), ('<OOV>', '[SECS:6]'), ('<OOV>', '[BN:10]'), ('<OOV>', '[BC:1]'), ('<OOV>', '[NN:8]'), ('<OOV>', '[Mi:1]'), ('[UCSi:1]', '[UCSh:1]'), ('[UCSi:1]', '[Madh:10]'), ('[UCSi:1]', '[SECS:6]'), ('[UCSi:1]', '[BN:10]'), ('[UCSi:1]', '[BC:1]'), ('[UCSi:1]', '[NN:8]'), ('[UCSi:1]', '[Mi:1]'), ('[UCSh:1]', '[Madh:10]'), ('[UCSh:1]', '[SECS:6]'), ('[UCSh:1]', '[BN:10]'), ('[UCSh:1]', '[BC:1]'), ('[UCSh:1]', '[NN:8]'), ('[UCSh:1]', '[Mi:1]'), ('[Madh:10]', '[SECS:6]'), ('[Madh:10]', '[BN:10]'), ('[Madh:10]', '[BC:1]'), ('[Madh:10]', '[NN:8]'), ('[Madh:10]', '[Mi:1]'), ('[SECS:6]', '[BN:10]'), ('[SECS:6]', '[BC:1]'), ('[SECS:6]', '[NN:8]'), ('[SECS:6]', '[Mi:1]'), ('[BN:10]', '[BC:1]'), ('[BN:10]', '[NN:8]'), ('[BN:10]', '[Mi:1]'), ('[BC:1]', '[NN:8]'), ('[BC:1]', '[Mi:1]'), ('[NN:8]', '[Mi:1]')]\n",
      "Violations of association rules found: [('<OOV>', '[UCSi:1]'), ('<OOV>', '[UCSh:1]'), ('<OOV>', '[Madh:10]'), ('<OOV>', '[SECS:6]'), ('<OOV>', '[BN:10]'), ('<OOV>', '[BC:1]'), ('<OOV>', '[NN:8]'), ('<OOV>', '[Mi:1]')]\n",
      "Status: normal\n",
      "Sentence is normal.\n",
      "[UCSh:2]\n",
      "[SECS:2]\n",
      "[UCSh:2]\n",
      "[SECS:2]\n",
      "Status: anomalous\n",
      "Highly associated words based on attention: [('[CT:5]', '[UCSi:3]'), ('[CT:5]', '<OOV>'), ('[CT:5]', '[Madh:1]'), ('[CT:5]', '<OOV>'), ('[CT:5]', '[BN:10]'), ('[CT:5]', '[BC:1]'), ('[CT:5]', '[NN:9]'), ('[CT:5]', '[Mi:1]'), ('[UCSi:3]', '<OOV>'), ('[UCSi:3]', '[Madh:1]'), ('[UCSi:3]', '<OOV>'), ('[UCSi:3]', '[BN:10]'), ('[UCSi:3]', '[BC:1]'), ('[UCSi:3]', '[NN:9]'), ('[UCSi:3]', '[Mi:1]'), ('<OOV>', '[Madh:1]'), ('<OOV>', '<OOV>'), ('<OOV>', '[BN:10]'), ('<OOV>', '[BC:1]'), ('<OOV>', '[NN:9]'), ('<OOV>', '[Mi:1]'), ('[Madh:1]', '<OOV>'), ('[Madh:1]', '[BN:10]'), ('[Madh:1]', '[BC:1]'), ('[Madh:1]', '[NN:9]'), ('[Madh:1]', '[Mi:1]'), ('<OOV>', '[BN:10]'), ('<OOV>', '[BC:1]'), ('<OOV>', '[NN:9]'), ('<OOV>', '[Mi:1]'), ('[BN:10]', '[BC:1]'), ('[BN:10]', '[NN:9]'), ('[BN:10]', '[Mi:1]'), ('[BC:1]', '[NN:9]'), ('[BC:1]', '[Mi:1]'), ('[NN:9]', '[Mi:1]')]\n",
      "Violations of association rules found: [('[CT:5]', '<OOV>'), ('[CT:5]', '<OOV>'), ('[UCSi:3]', '<OOV>'), ('[UCSi:3]', '<OOV>'), ('<OOV>', '[Madh:1]'), ('<OOV>', '<OOV>'), ('<OOV>', '[BN:10]'), ('<OOV>', '[BC:1]'), ('<OOV>', '[NN:9]'), ('<OOV>', '[Mi:1]'), ('[Madh:1]', '<OOV>'), ('<OOV>', '[BN:10]'), ('<OOV>', '[BC:1]'), ('<OOV>', '[NN:9]'), ('<OOV>', '[Mi:1]')]\n",
      "[CT:2]\n",
      "[CT:2]\n",
      "Status: anomalous\n",
      "Highly associated words based on attention: [('<OOV>', '[UCSi:1]'), ('<OOV>', '[UCSh:7]'), ('<OOV>', '[Madh:0]'), ('<OOV>', '[SECS:0]'), ('<OOV>', '[BN:1]'), ('<OOV>', '[BC:6]'), ('<OOV>', '[NN:1]'), ('<OOV>', '[Mi:1]'), ('[UCSi:1]', '[UCSh:7]'), ('[UCSi:1]', '[Madh:0]'), ('[UCSi:1]', '[SECS:0]'), ('[UCSi:1]', '[BN:1]'), ('[UCSi:1]', '[BC:6]'), ('[UCSi:1]', '[NN:1]'), ('[UCSi:1]', '[Mi:1]'), ('[UCSh:7]', '[Madh:0]'), ('[UCSh:7]', '[SECS:0]'), ('[UCSh:7]', '[BN:1]'), ('[UCSh:7]', '[BC:6]'), ('[UCSh:7]', '[NN:1]'), ('[UCSh:7]', '[Mi:1]'), ('[Madh:0]', '[SECS:0]'), ('[Madh:0]', '[BN:1]'), ('[Madh:0]', '[BC:6]'), ('[Madh:0]', '[NN:1]'), ('[Madh:0]', '[Mi:1]'), ('[SECS:0]', '[BN:1]'), ('[SECS:0]', '[BC:6]'), ('[SECS:0]', '[NN:1]'), ('[SECS:0]', '[Mi:1]'), ('[BN:1]', '[BC:6]'), ('[BN:1]', '[NN:1]'), ('[BN:1]', '[Mi:1]'), ('[BC:6]', '[NN:1]'), ('[BC:6]', '[Mi:1]'), ('[NN:1]', '[Mi:1]')]\n",
      "Violations of association rules found: [('<OOV>', '[UCSi:1]'), ('<OOV>', '[UCSh:7]'), ('<OOV>', '[Madh:0]'), ('<OOV>', '[SECS:0]'), ('<OOV>', '[BN:1]'), ('<OOV>', '[BC:6]'), ('<OOV>', '[NN:1]'), ('<OOV>', '[Mi:1]'), ('[BN:1]', '[BC:6]')]\n",
      "[CT:2]\n",
      "[CT:2]\n",
      "Status: anomalous\n",
      "Highly associated words based on attention: [('<OOV>', '[UCSi:1]'), ('<OOV>', '[UCSh:3]'), ('<OOV>', '[Madh:10]'), ('<OOV>', '[SECS:1]'), ('<OOV>', '[BN:10]'), ('<OOV>', '[BC:10]'), ('<OOV>', '[NN:1]'), ('<OOV>', '[Mi:1]'), ('[UCSi:1]', '[UCSh:3]'), ('[UCSi:1]', '[Madh:10]'), ('[UCSi:1]', '[SECS:1]'), ('[UCSi:1]', '[BN:10]'), ('[UCSi:1]', '[BC:10]'), ('[UCSi:1]', '[NN:1]'), ('[UCSi:1]', '[Mi:1]'), ('[UCSh:3]', '[Madh:10]'), ('[UCSh:3]', '[SECS:1]'), ('[UCSh:3]', '[BN:10]'), ('[UCSh:3]', '[BC:10]'), ('[UCSh:3]', '[NN:1]'), ('[UCSh:3]', '[Mi:1]'), ('[Madh:10]', '[SECS:1]'), ('[Madh:10]', '[BN:10]'), ('[Madh:10]', '[BC:10]'), ('[Madh:10]', '[NN:1]'), ('[Madh:10]', '[Mi:1]'), ('[SECS:1]', '[BN:10]'), ('[SECS:1]', '[BC:10]'), ('[SECS:1]', '[NN:1]'), ('[SECS:1]', '[Mi:1]'), ('[BN:10]', '[BC:10]'), ('[BN:10]', '[NN:1]'), ('[BN:10]', '[Mi:1]'), ('[BC:10]', '[NN:1]'), ('[BC:10]', '[Mi:1]'), ('[NN:1]', '[Mi:1]')]\n",
      "Violations of association rules found: [('<OOV>', '[UCSi:1]'), ('<OOV>', '[UCSh:3]'), ('<OOV>', '[Madh:10]'), ('<OOV>', '[SECS:1]'), ('<OOV>', '[BN:10]'), ('<OOV>', '[BC:10]'), ('<OOV>', '[NN:1]'), ('<OOV>', '[Mi:1]')]\n",
      "Status: normal\n",
      "Sentence is normal.\n",
      "[UCSi:2]\n",
      "[Madh:2]\n",
      "[UCSi:2]\n",
      "[Madh:2]\n",
      "Status: anomalous\n",
      "Highly associated words based on attention: [('[CT:5]', '<OOV>'), ('[CT:5]', '[UCSh:10]'), ('[CT:5]', '<OOV>'), ('[CT:5]', '[SECS:5]'), ('[CT:5]', '[BN:5]'), ('[CT:5]', '[BC:7]'), ('[CT:5]', '[NN:10]'), ('[CT:5]', '[Mi:1]'), ('<OOV>', '[UCSh:10]'), ('<OOV>', '<OOV>'), ('<OOV>', '[SECS:5]'), ('<OOV>', '[BN:5]'), ('<OOV>', '[BC:7]'), ('<OOV>', '[NN:10]'), ('<OOV>', '[Mi:1]'), ('[UCSh:10]', '<OOV>'), ('[UCSh:10]', '[SECS:5]'), ('[UCSh:10]', '[BN:5]'), ('[UCSh:10]', '[BC:7]'), ('[UCSh:10]', '[NN:10]'), ('[UCSh:10]', '[Mi:1]'), ('<OOV>', '[SECS:5]'), ('<OOV>', '[BN:5]'), ('<OOV>', '[BC:7]'), ('<OOV>', '[NN:10]'), ('<OOV>', '[Mi:1]'), ('[SECS:5]', '[BN:5]'), ('[SECS:5]', '[BC:7]'), ('[SECS:5]', '[NN:10]'), ('[SECS:5]', '[Mi:1]'), ('[BN:5]', '[BC:7]'), ('[BN:5]', '[NN:10]'), ('[BN:5]', '[Mi:1]'), ('[BC:7]', '[NN:10]'), ('[BC:7]', '[Mi:1]'), ('[NN:10]', '[Mi:1]')]\n",
      "Violations of association rules found: [('[CT:5]', '<OOV>'), ('[CT:5]', '<OOV>'), ('<OOV>', '[UCSh:10]'), ('<OOV>', '<OOV>'), ('<OOV>', '[SECS:5]'), ('<OOV>', '[BN:5]'), ('<OOV>', '[BC:7]'), ('<OOV>', '[NN:10]'), ('<OOV>', '[Mi:1]'), ('[UCSh:10]', '<OOV>'), ('<OOV>', '[SECS:5]'), ('<OOV>', '[BN:5]'), ('<OOV>', '[BC:7]'), ('<OOV>', '[NN:10]'), ('<OOV>', '[Mi:1]')]\n",
      "[UCSh:2]\n",
      "[BN:2]\n",
      "[UCSh:2]\n",
      "[BN:2]\n",
      "Status: anomalous\n",
      "Highly associated words based on attention: [('[CT:10]', '[UCSi:1]'), ('[CT:10]', '<OOV>'), ('[CT:10]', '[Madh:1]'), ('[CT:10]', '[SECS:5]'), ('[CT:10]', '<OOV>'), ('[CT:10]', '[BC:7]'), ('[CT:10]', '[NN:1]'), ('[CT:10]', '[Mi:1]'), ('[UCSi:1]', '<OOV>'), ('[UCSi:1]', '[Madh:1]'), ('[UCSi:1]', '[SECS:5]'), ('[UCSi:1]', '<OOV>'), ('[UCSi:1]', '[BC:7]'), ('[UCSi:1]', '[NN:1]'), ('[UCSi:1]', '[Mi:1]'), ('<OOV>', '[Madh:1]'), ('<OOV>', '[SECS:5]'), ('<OOV>', '<OOV>'), ('<OOV>', '[BC:7]'), ('<OOV>', '[NN:1]'), ('<OOV>', '[Mi:1]'), ('[Madh:1]', '[SECS:5]'), ('[Madh:1]', '<OOV>'), ('[Madh:1]', '[BC:7]'), ('[Madh:1]', '[NN:1]'), ('[Madh:1]', '[Mi:1]'), ('[SECS:5]', '<OOV>'), ('[SECS:5]', '[BC:7]'), ('[SECS:5]', '[NN:1]'), ('[SECS:5]', '[Mi:1]'), ('<OOV>', '[BC:7]'), ('<OOV>', '[NN:1]'), ('<OOV>', '[Mi:1]'), ('[BC:7]', '[NN:1]'), ('[BC:7]', '[Mi:1]'), ('[NN:1]', '[Mi:1]')]\n",
      "Violations of association rules found: [('[CT:10]', '<OOV>'), ('[CT:10]', '<OOV>'), ('[UCSi:1]', '<OOV>'), ('[UCSi:1]', '<OOV>'), ('<OOV>', '[Madh:1]'), ('<OOV>', '[SECS:5]'), ('<OOV>', '<OOV>'), ('<OOV>', '[BC:7]'), ('<OOV>', '[NN:1]'), ('<OOV>', '[Mi:1]'), ('[Madh:1]', '<OOV>'), ('[SECS:5]', '<OOV>'), ('<OOV>', '[BC:7]'), ('<OOV>', '[NN:1]'), ('<OOV>', '[Mi:1]')]\n",
      "[UCSh:2]\n",
      "[UCSh:2]\n",
      "Status: anomalous\n",
      "Highly associated words based on attention: [('[CT:8]', '[UCSi:10]'), ('[CT:8]', '<OOV>'), ('[CT:8]', '[Madh:10]'), ('[CT:8]', '[SECS:6]'), ('[CT:8]', '[BN:1]'), ('[CT:8]', '[BC:10]'), ('[CT:8]', '[NN:10]'), ('[CT:8]', '[Mi:10]'), ('[UCSi:10]', '<OOV>'), ('[UCSi:10]', '[Madh:10]'), ('[UCSi:10]', '[SECS:6]'), ('[UCSi:10]', '[BN:1]'), ('[UCSi:10]', '[BC:10]'), ('[UCSi:10]', '[NN:10]'), ('[UCSi:10]', '[Mi:10]'), ('<OOV>', '[Madh:10]'), ('<OOV>', '[SECS:6]'), ('<OOV>', '[BN:1]'), ('<OOV>', '[BC:10]'), ('<OOV>', '[NN:10]'), ('<OOV>', '[Mi:10]'), ('[Madh:10]', '[SECS:6]'), ('[Madh:10]', '[BN:1]'), ('[Madh:10]', '[BC:10]'), ('[Madh:10]', '[NN:10]'), ('[Madh:10]', '[Mi:10]'), ('[SECS:6]', '[BN:1]'), ('[SECS:6]', '[BC:10]'), ('[SECS:6]', '[NN:10]'), ('[SECS:6]', '[Mi:10]'), ('[BN:1]', '[BC:10]'), ('[BN:1]', '[NN:10]'), ('[BN:1]', '[Mi:10]'), ('[BC:10]', '[NN:10]'), ('[BC:10]', '[Mi:10]'), ('[NN:10]', '[Mi:10]')]\n",
      "Violations of association rules found: [('[CT:8]', '<OOV>'), ('[UCSi:10]', '<OOV>'), ('<OOV>', '[Madh:10]'), ('<OOV>', '[SECS:6]'), ('<OOV>', '[BN:1]'), ('<OOV>', '[BC:10]'), ('<OOV>', '[NN:10]'), ('<OOV>', '[Mi:10]')]\n",
      "Mutation Score for anomaly detection: 66.67%\n",
      "Mutation Score for violation detection: 66.67%\n"
     ]
    }
   ],
   "source": [
    "import random\n",
    "import pandas as pd\n",
    "\n",
    "normal_data = df[df['Class'] == 0].sample(frac=0.05)\n",
    "\n",
    "def mutate_sentence(sentence):\n",
    "    columns = sentence.split('],[')\n",
    "    if columns:\n",
    "        columns[0] = columns[0][1:]  \n",
    "        columns[-1] = columns[-1][:-1]  \n",
    "    \n",
    "    mutation_indices = random.sample(range(len(columns)), 2)\n",
    "    mutated_columns = [] \n",
    "    \n",
    "    for idx in mutation_indices:\n",
    "        col_val_split = columns[idx].split(':')\n",
    "        col = col_val_split[0]\n",
    "        mutated_val = str(random.randint(1,2))\n",
    "        \n",
    "\n",
    "        columns[idx] = f\"{col}:{mutated_val}\"\n",
    "        mutated_columns.append(f\"[{col}:{mutated_val}]\")  \n",
    "    \n",
    "    mutated_sentence = '[' + '],['.join(columns) + ']'\n",
    "    return mutated_sentence, mutated_columns\n",
    "\n",
    "killed_mutants_1 = 0\n",
    "killed_mutants_2 = 0\n",
    "total_mutants = len(normal_data) \n",
    "for sentence in normal_data['sentence']:\n",
    "    mutated_sentence, mutated_columns = mutate_sentence(sentence)\n",
    "\n",
    "    status, high_attention_pairs = process_test_sentence(mutated_sentence)\n",
    "    print(f\"Status: {status}\")\n",
    "    if status == \"anomalous\":\n",
    "        print(\"Highly associated words based on attention:\", high_attention_pairs)\n",
    "        killed_mutants_1 += 1\n",
    "        violations = check_association_violations(high_attention_pairs, M)\n",
    "        if violations:\n",
    "            print(\"Violations of association rules found:\", violations)\n",
    "            if any(\"<OOV>\" in pair for violation in violations for pair in violation) or any(col in pair for violation in violations for pair in violation for col in mutated_columns):\n",
    "               killed_mutants_2 += 1\n",
    "\n",
    "        else:\n",
    "            print(\"No violations of association rules.\")\n",
    "    else:\n",
    "        print(\"Sentence is normal.\")\n",
    "\n",
    "mutation_score_1 = (killed_mutants_1 / total_mutants) * 100\n",
    "mutation_score_2 = (killed_mutants_2 / total_mutants) * 100\n",
    "print(f\"Mutation Score for anomaly detection: {mutation_score_1:.2f}%\")\n",
    "print(f\"Mutation Score for violation detection: {mutation_score_2:.2f}%\")"
   ]
  },
  {
   "cell_type": "markdown",
   "metadata": {
    "nteract": {
     "transient": {
      "deleting": false
     }
    }
   },
   "source": [
    "## Compare with other models\n",
    "\n",
    "Our study involves a comprehensive comparison of the proposed model against traditional anomaly detection methods, including Long Short-Term Memory (LSTM) networks and Multi-Layer Perceptrons (MLP)."
   ]
  },
  {
   "cell_type": "code",
   "execution_count": 22,
   "metadata": {
    "gather": {
     "logged": 1713377907031
    },
    "jupyter": {
     "outputs_hidden": false,
     "source_hidden": false
    },
    "nteract": {
     "transient": {
      "deleting": false
     }
    },
    "scrolled": true
   },
   "outputs": [
    {
     "name": "stdout",
     "output_type": "stream",
     "text": [
      "Epoch 1/10\n"
     ]
    },
    {
     "name": "stderr",
     "output_type": "stream",
     "text": [
      "/Users/uriel/anaconda3/lib/python3.11/site-packages/keras/src/layers/core/embedding.py:89: UserWarning: Do not pass an `input_shape`/`input_dim` argument to a layer. When using Sequential models, prefer using an `Input(shape)` object as the first layer in the model instead.\n",
      "  super().__init__(**kwargs)\n"
     ]
    },
    {
     "name": "stdout",
     "output_type": "stream",
     "text": [
      "\u001b[1m18/18\u001b[0m \u001b[32m━━━━━━━━━━━━━━━━━━━━\u001b[0m\u001b[37m\u001b[0m \u001b[1m1s\u001b[0m 29ms/step - accuracy: 0.6264 - loss: 0.6302 - val_accuracy: 0.7581 - val_loss: 0.3994\n",
      "Epoch 2/10\n",
      "\u001b[1m18/18\u001b[0m \u001b[32m━━━━━━━━━━━━━━━━━━━━\u001b[0m\u001b[37m\u001b[0m \u001b[1m0s\u001b[0m 22ms/step - accuracy: 0.8807 - loss: 0.2754 - val_accuracy: 0.9677 - val_loss: 0.1386\n",
      "Epoch 3/10\n",
      "\u001b[1m18/18\u001b[0m \u001b[32m━━━━━━━━━━━━━━━━━━━━\u001b[0m\u001b[37m\u001b[0m \u001b[1m0s\u001b[0m 25ms/step - accuracy: 0.9535 - loss: 0.1360 - val_accuracy: 0.9677 - val_loss: 0.1240\n",
      "Epoch 4/10\n",
      "\u001b[1m18/18\u001b[0m \u001b[32m━━━━━━━━━━━━━━━━━━━━\u001b[0m\u001b[37m\u001b[0m \u001b[1m0s\u001b[0m 22ms/step - accuracy: 0.9602 - loss: 0.1182 - val_accuracy: 0.9839 - val_loss: 0.0696\n",
      "Epoch 5/10\n",
      "\u001b[1m18/18\u001b[0m \u001b[32m━━━━━━━━━━━━━━━━━━━━\u001b[0m\u001b[37m\u001b[0m \u001b[1m0s\u001b[0m 22ms/step - accuracy: 0.9523 - loss: 0.1489 - val_accuracy: 0.9677 - val_loss: 0.1402\n",
      "Epoch 6/10\n",
      "\u001b[1m18/18\u001b[0m \u001b[32m━━━━━━━━━━━━━━━━━━━━\u001b[0m\u001b[37m\u001b[0m \u001b[1m0s\u001b[0m 23ms/step - accuracy: 0.9653 - loss: 0.1058 - val_accuracy: 0.9677 - val_loss: 0.0996\n",
      "Epoch 7/10\n",
      "\u001b[1m18/18\u001b[0m \u001b[32m━━━━━━━━━━━━━━━━━━━━\u001b[0m\u001b[37m\u001b[0m \u001b[1m0s\u001b[0m 22ms/step - accuracy: 0.9657 - loss: 0.1025 - val_accuracy: 0.9677 - val_loss: 0.0775\n",
      "\u001b[1m3/3\u001b[0m \u001b[32m━━━━━━━━━━━━━━━━━━━━\u001b[0m\u001b[37m\u001b[0m \u001b[1m0s\u001b[0m 40ms/step\n",
      "Time taken: 4.27 seconds\n"
     ]
    }
   ],
   "source": [
    "# LSTM\n",
    "\n",
    "from tensorflow.keras.preprocessing.text import Tokenizer\n",
    "from tensorflow.keras.preprocessing.sequence import pad_sequences\n",
    "from keras.models import Sequential\n",
    "from keras.layers import Embedding, LSTM, Dense\n",
    "from keras.callbacks import EarlyStopping\n",
    "from sklearn.metrics import accuracy_score, f1_score\n",
    "\n",
    "import time\n",
    "\n",
    "start_time = time.time()\n",
    "\n",
    "max_words = 5000  \n",
    "max_len = 50  \n",
    "\n",
    "tokenizer = Tokenizer(num_words=max_words)\n",
    "tokenizer.fit_on_texts(train_sentences)\n",
    "sequences = tokenizer.texts_to_sequences(train_sentences)\n",
    "padded_sequences = pad_sequences(sequences, maxlen=max_len)\n",
    "\n",
    "lstm_model = Sequential()\n",
    "lstm_model.add(Embedding(input_dim=max_words, output_dim=128, input_shape=(max_len,)))\n",
    "lstm_model.add(LSTM(64))\n",
    "lstm_model.add(Dense(1, activation='sigmoid'))\n",
    "\n",
    "lstm_model.compile(optimizer='adam', loss='binary_crossentropy', metrics=['accuracy'])\n",
    "\n",
    "early_stopping = EarlyStopping(monitor='val_loss', patience=3)\n",
    "lstm_model.fit(padded_sequences, train_labels, batch_size=32, epochs=10, validation_split=0.1, callbacks=[early_stopping])\n",
    "\n",
    "val_sequences = tokenizer.texts_to_sequences(val_sentences)\n",
    "val_padded_sequences = pad_sequences(val_sequences, maxlen=max_len)\n",
    "val_labels = np.array(val_labels)\n",
    "\n",
    "lstm_preds = (lstm_model.predict(val_padded_sequences) > 0.5).astype('int32').flatten()\n",
    "\n",
    "lstm_accuracy = accuracy_score(val_labels, lstm_preds)\n",
    "lstm_f1 = f1_score(val_labels, lstm_preds, average='micro')\n",
    "\n",
    "end_time = time.time()\n",
    "total_time = end_time - start_time\n",
    "print(f\"Time taken: {total_time:.2f} seconds\")\n"
   ]
  },
  {
   "cell_type": "code",
   "execution_count": 23,
   "metadata": {
    "gather": {
     "logged": 1713377910221
    },
    "jupyter": {
     "outputs_hidden": false,
     "source_hidden": false
    },
    "nteract": {
     "transient": {
      "deleting": false
     }
    },
    "scrolled": true
   },
   "outputs": [
    {
     "name": "stderr",
     "output_type": "stream",
     "text": [
      "/Users/uriel/anaconda3/lib/python3.11/site-packages/keras/src/layers/core/dense.py:86: UserWarning: Do not pass an `input_shape`/`input_dim` argument to a layer. When using Sequential models, prefer using an `Input(shape)` object as the first layer in the model instead.\n",
      "  super().__init__(activity_regularizer=activity_regularizer, **kwargs)\n"
     ]
    },
    {
     "name": "stdout",
     "output_type": "stream",
     "text": [
      "Epoch 1/100\n",
      "\u001b[1m18/18\u001b[0m \u001b[32m━━━━━━━━━━━━━━━━━━━━\u001b[0m\u001b[37m\u001b[0m \u001b[1m1s\u001b[0m 5ms/step - accuracy: 0.4253 - loss: 0.7822 - val_accuracy: 0.9677 - val_loss: 0.4759\n",
      "Epoch 2/100\n",
      "\u001b[1m18/18\u001b[0m \u001b[32m━━━━━━━━━━━━━━━━━━━━\u001b[0m\u001b[37m\u001b[0m \u001b[1m0s\u001b[0m 1ms/step - accuracy: 0.8325 - loss: 0.5005 - val_accuracy: 0.9677 - val_loss: 0.3074\n",
      "Epoch 3/100\n",
      "\u001b[1m18/18\u001b[0m \u001b[32m━━━━━━━━━━━━━━━━━━━━\u001b[0m\u001b[37m\u001b[0m \u001b[1m0s\u001b[0m 2ms/step - accuracy: 0.9140 - loss: 0.3601 - val_accuracy: 0.9677 - val_loss: 0.2110\n",
      "Epoch 4/100\n",
      "\u001b[1m18/18\u001b[0m \u001b[32m━━━━━━━━━━━━━━━━━━━━\u001b[0m\u001b[37m\u001b[0m \u001b[1m0s\u001b[0m 1ms/step - accuracy: 0.9212 - loss: 0.2726 - val_accuracy: 0.9677 - val_loss: 0.1521\n",
      "Epoch 5/100\n",
      "\u001b[1m18/18\u001b[0m \u001b[32m━━━━━━━━━━━━━━━━━━━━\u001b[0m\u001b[37m\u001b[0m \u001b[1m0s\u001b[0m 1ms/step - accuracy: 0.9524 - loss: 0.1989 - val_accuracy: 0.9677 - val_loss: 0.1247\n",
      "Epoch 6/100\n",
      "\u001b[1m18/18\u001b[0m \u001b[32m━━━━━━━━━━━━━━━━━━━━\u001b[0m\u001b[37m\u001b[0m \u001b[1m0s\u001b[0m 1ms/step - accuracy: 0.9529 - loss: 0.1658 - val_accuracy: 0.9677 - val_loss: 0.1153\n",
      "Epoch 7/100\n",
      "\u001b[1m18/18\u001b[0m \u001b[32m━━━━━━━━━━━━━━━━━━━━\u001b[0m\u001b[37m\u001b[0m \u001b[1m0s\u001b[0m 1ms/step - accuracy: 0.9635 - loss: 0.1567 - val_accuracy: 0.9677 - val_loss: 0.1131\n",
      "Epoch 8/100\n",
      "\u001b[1m18/18\u001b[0m \u001b[32m━━━━━━━━━━━━━━━━━━━━\u001b[0m\u001b[37m\u001b[0m \u001b[1m0s\u001b[0m 1ms/step - accuracy: 0.9603 - loss: 0.1625 - val_accuracy: 0.9677 - val_loss: 0.1144\n",
      "Epoch 9/100\n",
      "\u001b[1m18/18\u001b[0m \u001b[32m━━━━━━━━━━━━━━━━━━━━\u001b[0m\u001b[37m\u001b[0m \u001b[1m0s\u001b[0m 1ms/step - accuracy: 0.9731 - loss: 0.1087 - val_accuracy: 0.9677 - val_loss: 0.1185\n",
      "Epoch 10/100\n",
      "\u001b[1m18/18\u001b[0m \u001b[32m━━━━━━━━━━━━━━━━━━━━\u001b[0m\u001b[37m\u001b[0m \u001b[1m0s\u001b[0m 1ms/step - accuracy: 0.9687 - loss: 0.1221 - val_accuracy: 0.9677 - val_loss: 0.1248\n",
      "Epoch 11/100\n",
      "\u001b[1m18/18\u001b[0m \u001b[32m━━━━━━━━━━━━━━━━━━━━\u001b[0m\u001b[37m\u001b[0m \u001b[1m0s\u001b[0m 1ms/step - accuracy: 0.9720 - loss: 0.1257 - val_accuracy: 0.9677 - val_loss: 0.1301\n",
      "Epoch 12/100\n",
      "\u001b[1m18/18\u001b[0m \u001b[32m━━━━━━━━━━━━━━━━━━━━\u001b[0m\u001b[37m\u001b[0m \u001b[1m0s\u001b[0m 1ms/step - accuracy: 0.9782 - loss: 0.1066 - val_accuracy: 0.9677 - val_loss: 0.1308\n",
      "\u001b[1m3/3\u001b[0m \u001b[32m━━━━━━━━━━━━━━━━━━━━\u001b[0m\u001b[37m\u001b[0m \u001b[1m0s\u001b[0m 8ms/step \n",
      "Time Taken:1.23 seconds\n"
     ]
    }
   ],
   "source": [
    "# MLP\n",
    "\n",
    "from keras.models import Sequential\n",
    "from keras.layers import Dense, Dropout\n",
    "from keras.callbacks import EarlyStopping\n",
    "from sklearn.preprocessing import StandardScaler\n",
    "from sklearn.metrics import accuracy_score, f1_score\n",
    "\n",
    "import time\n",
    "\n",
    "start_time = time.time()\n",
    "\n",
    "X = df.drop(['Class','sentence'], axis=1).values\n",
    "y = df['Class'].values\n",
    "\n",
    "scaler = StandardScaler()\n",
    "X_standardized = scaler.fit_transform(X)\n",
    "\n",
    "X_train, X_val, y_train, y_val = train_test_split(X_standardized, y, test_size=0.1, random_state=42)\n",
    "\n",
    "mlp_model = Sequential()\n",
    "mlp_model.add(Dense(64, activation='relu', input_shape=(X_train.shape[1],)))\n",
    "mlp_model.add(Dropout(0.5))\n",
    "mlp_model.add(Dense(32, activation='relu'))\n",
    "mlp_model.add(Dropout(0.5))\n",
    "mlp_model.add(Dense(1, activation='sigmoid'))\n",
    "\n",
    "mlp_model.compile(optimizer='adam', loss='binary_crossentropy', metrics=['accuracy'])\n",
    "\n",
    "early_stopping = EarlyStopping(monitor='val_loss', patience=5)\n",
    "mlp_model.fit(X_train, y_train, batch_size=32, epochs=100, validation_split=0.1, callbacks=[early_stopping])\n",
    "\n",
    "mlp_preds = (mlp_model.predict(X_val) > 0.5).astype('int32').flatten()\n",
    "\n",
    "mlp_accuracy = accuracy_score(y_val, mlp_preds)\n",
    "mlp_f1 = f1_score(y_val, mlp_preds, average='micro')\n",
    "\n",
    "end_time = time.time()\n",
    "total_time = end_time - start_time\n",
    "print(f\"Time Taken:{total_time:.2f} seconds\")"
   ]
  },
  {
   "cell_type": "code",
   "execution_count": 24,
   "metadata": {
    "gather": {
     "logged": 1713377910428
    },
    "jupyter": {
     "outputs_hidden": false,
     "source_hidden": false
    },
    "nteract": {
     "transient": {
      "deleting": false
     }
    }
   },
   "outputs": [
    {
     "data": {
      "text/html": [
       "<div>\n",
       "<style scoped>\n",
       "    .dataframe tbody tr th:only-of-type {\n",
       "        vertical-align: middle;\n",
       "    }\n",
       "\n",
       "    .dataframe tbody tr th {\n",
       "        vertical-align: top;\n",
       "    }\n",
       "\n",
       "    .dataframe thead th {\n",
       "        text-align: right;\n",
       "    }\n",
       "</style>\n",
       "<table border=\"1\" class=\"dataframe\">\n",
       "  <thead>\n",
       "    <tr style=\"text-align: right;\">\n",
       "      <th></th>\n",
       "      <th>Model</th>\n",
       "      <th>Accuracy</th>\n",
       "      <th>F1 Score</th>\n",
       "    </tr>\n",
       "  </thead>\n",
       "  <tbody>\n",
       "    <tr>\n",
       "      <th>0</th>\n",
       "      <td>BERT</td>\n",
       "      <td>0.971014</td>\n",
       "      <td>0.971014</td>\n",
       "    </tr>\n",
       "    <tr>\n",
       "      <th>1</th>\n",
       "      <td>LSTM</td>\n",
       "      <td>0.985507</td>\n",
       "      <td>0.985507</td>\n",
       "    </tr>\n",
       "    <tr>\n",
       "      <th>2</th>\n",
       "      <td>MLP</td>\n",
       "      <td>0.971014</td>\n",
       "      <td>0.971014</td>\n",
       "    </tr>\n",
       "  </tbody>\n",
       "</table>\n",
       "</div>"
      ],
      "text/plain": [
       "  Model  Accuracy  F1 Score\n",
       "0  BERT  0.971014  0.971014\n",
       "1  LSTM  0.985507  0.985507\n",
       "2   MLP  0.971014  0.971014"
      ]
     },
     "execution_count": 24,
     "metadata": {},
     "output_type": "execute_result"
    }
   ],
   "source": [
    "comparison_dict = {\n",
    "    'Model': ['BERT', 'LSTM','MLP'],\n",
    "    'Accuracy': [bert_accuracy, lstm_accuracy,mlp_accuracy],\n",
    "    'F1 Score': [bert_f1, lstm_f1, mlp_f1]\n",
    "}\n",
    "\n",
    "comparison_df = pd.DataFrame(comparison_dict)\n",
    "comparison_df"
   ]
  }
 ],
 "metadata": {
  "kernel_info": {
   "name": "python38-azureml"
  },
  "kernelspec": {
   "display_name": "Python 3 (ipykernel)",
   "language": "python",
   "name": "python3"
  },
  "language_info": {
   "codemirror_mode": {
    "name": "ipython",
    "version": 3
   },
   "file_extension": ".py",
   "mimetype": "text/x-python",
   "name": "python",
   "nbconvert_exporter": "python",
   "pygments_lexer": "ipython3",
   "version": "3.11.5"
  },
  "microsoft": {
   "host": {
    "AzureML": {
     "notebookHasBeenCompleted": true
    }
   },
   "ms_spell_check": {
    "ms_spell_check_language": "en"
   }
  },
  "nteract": {
   "version": "nteract-front-end@1.0.0"
  }
 },
 "nbformat": 4,
 "nbformat_minor": 2
}
